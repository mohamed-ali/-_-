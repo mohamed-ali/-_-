{
 "cells": [
  {
   "cell_type": "markdown",
   "metadata": {},
   "source": [
    "\n",
    "\n",
    "<a href=\"https://colab.research.google.com/github/mohamed-ali/mlar/blob/master/إبدأ_مع_بيثون/الدرس_1_إبدأ_مع_بيثون.ipynb\">\n",
    "  <img style=\"margin-left:10px\" align=\"right\" src=\"https://colab.research.google.com/assets/colab-badge.svg\" alt=\"Colab إقرأ و تفاعل على\"/>\n",
    "</a>\n",
    "<a href=\"https://nbviewer.jupyter.org/github/mohamed-ali/mlar/blob/master/إبدأ_مع_بيثون/الدرس_1_إبدأ_مع_بيثون.ipynb\">\n",
    "   <img align=\"right\" \n",
    "      src=\"https://raw.githubusercontent.com/jupyter/design/master/logos/Badges/nbviewer_badge.png\" \n",
    "      width=\"109\" height=\"20\">\n",
    "</a>\n",
    "\n",
    "# <div dir=\"rtl\">لماذا بيثون؟</div>\n",
    "<div dir=\"rtl\">\n",
    "في السنوات الأخيرة, يعدّ بيثون (Python) من لغات البرمجة الأسرع إنتشارا حول العالم. يمكننا أن نرى تطوّر الإهتمام ببيثون بإستعمال \n",
    "    google trends\n",
    "    :\n",
    "</div>\n",
    "\n",
    "![Evolution of interest in Python vs cpp](../resources/lesson1_fig1_google_trends.png)"
   ]
  },
  {
   "cell_type": "markdown",
   "metadata": {},
   "source": [
    "<div dir=\"rtl\">\n",
    "    و في أخر إستقصاء إحصائي لعام 2019 على موقع ستاك أوفرفلو (stackoverflow) نرى أنّ بيثون قد حاز على مرتبة متقدّمة بين لغات البرمجة التيّ يحبّها و يستعملها المبرمجون المحترفون\n",
    "    .\n",
    "    المصدر:\n",
    "    <a href=\"https://insights.stackoverflow.com/survey/2019#technology\">StackOverflow developer survey</a>  \n",
    "</div>\n",
    "\n",
    "<div>\n",
    "<img align=\"right\" src=\"../resources/stackoverflow_developer_survey1.png\" alt=\"Stackoverflow developer survery\"/>\n",
    "<img align=\"right\" src=\"../resources/stackoverflow_developer_survey2.png\" alt=\"Stackoverflow developer survery\"/>\n",
    "</div>"
   ]
  },
  {
   "cell_type": "markdown",
   "metadata": {},
   "source": [
    "<div dir=\"rtl\">\n",
    "       هذا النجاح الملحوظ يحيل بأنّ تعلّم لغة البرمجة بيثون سيسهّل دخول المتعلّم إلي سوق الشغل.\n",
    "</div>"
   ]
  },
  {
   "cell_type": "markdown",
   "metadata": {},
   "source": [
    "# <div dir=\"rtl\">خصائص بيثون</div>\n",
    "<div dir=\"rtl\">\n",
    "يعدّ بيثون من لغات البرمجة الأسهل تعلّما. رغم ذلك, هو يحتوي على كلّ الخصائص اللازمة لتطوير برامج فعّالة و متطوّرة, و هذا من الأسباب الأساسية التي جعلت الإقبال عليه يكثر في السنوات الأخيرة.  \n",
    "</div>"
   ]
  },
  {
   "cell_type": "markdown",
   "metadata": {},
   "source": [
    "## <div dir=\"rtl\">مثال على سهولة بيثون: </div>\n",
    "<div dir=\"rtl\">\n",
    "     مع بداية تعلّم أيّة لغة برمجة, يعدّ برنامج \"مرحبا يا عالم\" من أول البرامج التي يطوّرها المتعلّم. هذا البرنامج يهدف إلي تمكين المتعلّم من تجربة بيئة التطوير التيّ يعمل عليها و التأكد من خلوّها من الأخطاء. سنرى فيما يلي كيفية كتابة هذا البرنامج في عدّة لغات برمجة و هي : \n",
    "    Python, Java, Cpp \n",
    "<br><br>    \n",
    " برنامج مرحبا يا عالم في  \n",
    "    Python\n",
    "</div>"
   ]
  },
  {
   "cell_type": "markdown",
   "metadata": {},
   "source": [
    "```python\n",
    "print(\"!مرحبا يا عالم\")\n",
    "```"
   ]
  },
  {
   "cell_type": "markdown",
   "metadata": {},
   "source": [
    "<div dir=\"rtl\">\n",
    " برنامج مرحبا يا عالم في  \n",
    "    Java\n",
    "</div>"
   ]
  },
  {
   "cell_type": "markdown",
   "metadata": {},
   "source": [
    "```java\n",
    "public class HelloWorld {\n",
    "    public static void main(String[] args) {\n",
    "        System.out.println(\"!مرحبا يا عالم\");\n",
    "    }\n",
    "\n",
    "}\n",
    "```"
   ]
  },
  {
   "cell_type": "markdown",
   "metadata": {},
   "source": [
    "<div dir=\"rtl\">\n",
    "برنامج مرحبا يا عالم في\n",
    "++C\n",
    "</div>\n",
    "\n",
    "```cpp\n",
    "#include <iostream>\n",
    "using namespace std;\n",
    "\n",
    "int main() \n",
    "{\n",
    "    cout << \"!مرحبا يا عالم\";\n",
    "    return 0;\n",
    "}\n",
    "```"
   ]
  },
  {
   "cell_type": "markdown",
   "metadata": {},
   "source": [
    "<div dir=\"rtl\">\n",
    "نرى إذا بوضوح أنّ كتابة هذا البرنامج في بيثون تتطلّب أقل كلمات من غيره من لغات البرمجة. و هذه خاصيّة مهمّة للشركات, حيث\n",
    "أنّها تمكّن من تطوير البرامج بصورة أسرع, وهو ما يمكّن الشركة من إيصال البرنامج إلي المستخدم بصورة أسرع. و هذا ما يمكّنها من\n",
    " الإستفادة من البرنامج و حلّ مشاكل أو تحقيق أرباح في وقت أسرع.\n",
    "</div>"
   ]
  },
  {
   "cell_type": "code",
   "execution_count": null,
   "metadata": {},
   "outputs": [],
   "source": []
  }
 ],
 "metadata": {
  "kernelspec": {
   "display_name": "Python 2",
   "language": "python",
   "name": "python2"
  },
  "language_info": {
   "codemirror_mode": {
    "name": "ipython",
    "version": 2
   },
   "file_extension": ".py",
   "mimetype": "text/x-python",
   "name": "python",
   "nbconvert_exporter": "python",
   "pygments_lexer": "ipython2",
   "version": "2.7.10"
  }
 },
 "nbformat": 4,
 "nbformat_minor": 2
}
