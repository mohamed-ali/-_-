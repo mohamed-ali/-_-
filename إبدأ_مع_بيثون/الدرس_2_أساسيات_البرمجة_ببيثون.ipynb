{
 "cells": [
  {
   "cell_type": "markdown",
   "metadata": {},
   "source": [
    "<a href=\"https://colab.research.google.com/github/mohamed-ali/mlar/blob/master/الدرس_1_إبدأ_مع_بيثون.ipynb\">\n",
    "  <img style=\"margin-left:10px\" align=\"right\" src=\"https://colab.research.google.com/assets/colab-badge.svg\" alt=\"Colab إقرأ و تفاعل على\"/>\n",
    "</a>\n",
    "<a href=\"https://nbviewer.jupyter.org/github/mohamed-ali/mlar/blob/master/إبدأ_مع_بيثون/الدرس_2_أساسيات_البرمجة_ببيثون.ipynb\">\n",
    "   <img align=\"right\" \n",
    "      src=\"https://raw.githubusercontent.com/jupyter/design/master/logos/Badges/nbviewer_badge.png\" \n",
    "      width=\"109\" height=\"20\">\n",
    "</a>"
   ]
  },
  {
   "cell_type": "markdown",
   "metadata": {},
   "source": [
    "<div dir=\"rtl\">\n",
    "     رأينا في الدّرس السابق بعض الأسباب التّي تحث على البدأ بتعلّم لغة البرمجة بيثون \n",
    "    (Python) \n",
    "    . سنرى الآن ما الذي يجب عليك البدأ به حتى تخطُو خطواتك الأولى مع بيثون.\n",
    "</div>\n",
    "<br>\n",
    "\n",
    "<div dir=\"rtl\">\n",
    "  كُل لغات البرمجة بما فيها بيثون تمكّن المستخدم من تسريع تحقيق شئ ما. فعوض أن تمضي يوما كاملا في \n",
    "</div>"
   ]
  },
  {
   "cell_type": "markdown",
   "metadata": {},
   "source": [
    "* variables and expression\n",
    "* if .. else satement\n",
    "* for loop and while\n",
    "* functions\n"
   ]
  }
 ],
 "metadata": {
  "kernelspec": {
   "display_name": "Python 2",
   "language": "python",
   "name": "python2"
  },
  "language_info": {
   "codemirror_mode": {
    "name": "ipython",
    "version": 2
   },
   "file_extension": ".py",
   "mimetype": "text/x-python",
   "name": "python",
   "nbconvert_exporter": "python",
   "pygments_lexer": "ipython2",
   "version": "2.7.10"
  }
 },
 "nbformat": 4,
 "nbformat_minor": 2
}
