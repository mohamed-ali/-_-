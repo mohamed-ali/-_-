{
 "cells": [
  {
   "cell_type": "markdown",
   "metadata": {},
   "source": [
    "<a href=\"https://colab.research.google.com/github/mohamed-ali/mlar/blob/master/الدرس_1_إبدأ_مع_بيثون.ipynb\">\n",
    "  <img style=\"margin-left:10px\" align=\"right\" src=\"https://colab.research.google.com/assets/colab-badge.svg\" alt=\"Colab إقرأ و تفاعل على\"/>\n",
    "</a>\n",
    "<a href=\"https://nbviewer.jupyter.org/github/mohamed-ali/mlar/blob/master/إبدأ_مع_بيثون/الدرس_2_أساسيات_البرمجة_ببيثون.ipynb\">\n",
    "   <img align=\"right\" \n",
    "      src=\"https://raw.githubusercontent.com/jupyter/design/master/logos/Badges/nbviewer_badge.png\" \n",
    "      width=\"109\" height=\"20\">\n",
    "</a>"
   ]
  },
  {
   "cell_type": "markdown",
   "metadata": {},
   "source": [
    "<div dir=\"rtl\">\n",
    "     رأينا في الدّرس السّابق بعض الأسباب التّي تحثُّ على البدأ بتعلّم لغة البرمجة بيثون \n",
    "    (Python) \n",
    "    . سنرى الآن ما الذي يجب عليك البدأ به حتى تخطُو خطواتك الأولى مع بيثون.\n",
    "</div>\n",
    "\n",
    "## <div dir=\"rtl\"> تمهيد</div>\n",
    "\n",
    "<div dir=\"rtl\">\n",
    " <!-- كُل لغات البرمجة بما فيها بيثون تمكّن المستخدم من تسريع تحقيق شئ ما. فعوض أن تمضي يوما كاملا في \n",
    " -->\n",
    "</div>\n",
    "\n",
    "<div dir=\"rtl\">\n",
    "       الهدف من لغات البرمجة بما فيها بيثون هو مساعدة المبرمج على تحقيق مهمّة بطريقة أسرع. لتحقيق ذلك يجب أن تتوفّر في لغة البرمجة المستعملة مجموعة من العناصر الأساسية. \n",
    "    في هذا الدرس، سوف نكتشف معا هذه العناصر تِبَاعًا بإستعمال أمثلة سهلة. لنبدأ: \n",
    "</div>\n",
    "\n",
    "<br>\n",
    "\n",
    "<div dir=\"rtl\">\n",
    "رأينا في الدّرس الأوّل أن كتابة برنامج \"مرحبا يا عالم\" سهل جدّا في بيثون. ليس عليك سوى إستعمال العبارة التّالية:  \n",
    "</div>\n",
    "\n",
    "```python\n",
    "print(\"!مرحبا يا عالم\")\n",
    "```\n",
    "\n",
    "<div dir=\"rtl\"> \n",
    "   لنفترض الآن أنكّ تودّ أن ترحب على شخص معيّن, أخوك محمّد مثلا, كيف يمكنك تغيير المثال السابق لتحقيق ذلك؟\n",
    "</div>\n",
    "\n",
    "```python\n",
    "print(\"!مرحبا يا محمّد\")\n",
    "```\n",
    "<div dir=\"rtl\"> \n",
    "أحسنت, ما عليك سوي تغيير عبارة \"عالم\" بالإسم \"محمّد\" لتتحصّل على البرنامج الجديد الذي يرحّب بأخيك محمّد.\n",
    "</div>\n",
    "\n",
    "<div dir=\"rtl\">\n",
    "الآن أختك أسماء رأت البرنامج، و كعادتها تحبّ الإطلاع و طرح الأسئلة, فطلبت منك أن تظيف إسمها إلي البرنامج لكي يرحّب بمحمّد ثمّ بها. فكيف يمكنك تغيير البرنامج لتحقيق ذلك؟  \n",
    "</div>\n",
    "\n",
    "<br>\n",
    "\n",
    "<div dir=\"rtl\">\n",
    "    لعلّ أسهل طريقة لتحقيق ذلك هي بإضافة سطرين في البرنامج، حيث يرحب الأوّل بمحمّد و الثاني بأسماء. فيصبح البرنامج كالآتي: \n",
    "</div>\n",
    "\n",
    "```python\n",
    "print(\"!مرحبا يا محمّد\")\n",
    "print(\"!مرحبا يا أسماء\")\n",
    "```\n",
    "<div dir=\"rtl\">\n",
    "    لو نتمعّن قليلا في البرنامج نرى أن المتغيّر الوحيد بين السّطر الأول و السّطر الثاني هو الإسم. \n",
    "</div>"
   ]
  },
  {
   "cell_type": "markdown",
   "metadata": {},
   "source": [
    "* variables and expression\n",
    "* if .. else satement\n",
    "* for loop and while\n",
    "* functions"
   ]
  }
 ],
 "metadata": {
  "kernelspec": {
   "display_name": "Python 2",
   "language": "python",
   "name": "python2"
  },
  "language_info": {
   "codemirror_mode": {
    "name": "ipython",
    "version": 2
   },
   "file_extension": ".py",
   "mimetype": "text/x-python",
   "name": "python",
   "nbconvert_exporter": "python",
   "pygments_lexer": "ipython2",
   "version": "2.7.10"
  }
 },
 "nbformat": 4,
 "nbformat_minor": 2
}
